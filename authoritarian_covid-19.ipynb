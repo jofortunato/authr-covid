{
 "cells": [
  {
   "cell_type": "markdown",
   "metadata": {},
   "source": [
    "#  Covid-19 e o Crescimento de Políticas Autoritárias-Nacionalistas"
   ]
  },
  {
   "cell_type": "markdown",
   "metadata": {},
   "source": [
    "A pandemia Covid-19 trouxe muitos desafios para as nossas sociedades. Hoje, ainda lidamos com os problemas de saúde pública e não tivemos o tempo e a clareza de espírito para pensar no que vai chegar.\n",
    "Na análise que vou apresentar pretendo olhar para a possível ligação entre o aparecimento desta pandemia e o crescimento de tendências políticas ligadas ao Autoritarismo e Nacionalismo.\n",
    "\n",
    "A reação muito natural da população quando um novo vírus aparece é ter receio do que vem de fora. Esta reação irracional torna-nos mais permiáveis a narrativas nacionalistas.\n",
    "\n",
    "Já todos ouvimos o líder de uma das maiores nações do Mundo - Donald Trump - chamar ao vírus Covid-19 o *Vírus Chinês*. Muitos países, numa tentativa de conter a pandemia, fecharam fronteiras. Assistimos a um avião que transportava material médico para Espanha ser bloqueado pelo governo Turco de modo a utilizar o material para o próprio sistema de saúde.\n",
    "\n",
    "Um [estudo] (https://journals.plos.org/plosone/article?id=10.1371/journal.pone.0062275#pone.0062275-Thornhill1) mostrou evidências que ligam o risco patogénico e políticas autoritárias-nacionalistas. Adicionalmente, nos últimos anos já vinhamos verificando o aumento gradual de discursos populistas e nacionalistas, ver [People vs. Democracy] (https://www.amazon.com/People-vs-Democracy-Freedom-Danger/dp/0674976827).\n",
    "\n",
    "Será que estamos a assistir a um aumento da popularidade de discursos nacionalistas-autoritários nos principais países desenvolvidos? E em Portugal?"
   ]
  }
 ],
 "metadata": {
  "kernelspec": {
   "display_name": "Python 3",
   "language": "python",
   "name": "python3"
  },
  "language_info": {
   "codemirror_mode": {
    "name": "ipython",
    "version": 3
   },
   "file_extension": ".py",
   "mimetype": "text/x-python",
   "name": "python",
   "nbconvert_exporter": "python",
   "pygments_lexer": "ipython3",
   "version": "3.6.9"
  }
 },
 "nbformat": 4,
 "nbformat_minor": 4
}
